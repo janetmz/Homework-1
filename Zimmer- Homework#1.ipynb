{
 "cells": [
  {
   "cell_type": "markdown",
   "metadata": {},
   "source": [
    "1. Print out your favorite color and write comment about what you are doing above the code."
   ]
  },
  {
   "cell_type": "code",
   "execution_count": 10,
   "metadata": {},
   "outputs": [
    {
     "name": "stdout",
     "output_type": "stream",
     "text": [
      "My favorite color is rain forest green - which is actually quite a variety of greens\n"
     ]
    }
   ],
   "source": [
    "# This is my favorite color\n",
    "print (\"My favorite color is rain forest green - which is actually quite a variety of greens\")"
   ]
  },
  {
   "cell_type": "markdown",
   "metadata": {},
   "source": [
    "2. Print the sumation of numbers 1 to 10"
   ]
  },
  {
   "cell_type": "code",
   "execution_count": 11,
   "metadata": {},
   "outputs": [
    {
     "name": "stdout",
     "output_type": "stream",
     "text": [
      "This is the sum of the numbers 1 to 10\n"
     ]
    },
    {
     "data": {
      "text/plain": [
       "55"
      ]
     },
     "execution_count": 11,
     "metadata": {},
     "output_type": "execute_result"
    }
   ],
   "source": [
    "# Here I have just entered the individual numbers with the + sign indicating addition\n",
    "print (\"This is the sum of the numbers 1 to 10\")\n",
    "1+2+3+4+5+6+7+8+9+10"
   ]
  },
  {
   "cell_type": "markdown",
   "metadata": {},
   "source": [
    "3. Print what 2 to the 8th power is."
   ]
  },
  {
   "cell_type": "code",
   "execution_count": 12,
   "metadata": {},
   "outputs": [
    {
     "name": "stdout",
     "output_type": "stream",
     "text": [
      "This is 2 raised to the 8th power.\n"
     ]
    },
    {
     "data": {
      "text/plain": [
       "256"
      ]
     },
     "execution_count": 12,
     "metadata": {},
     "output_type": "execute_result"
    }
   ],
   "source": [
    "# The ** is used to raise a base number to an exponential power\n",
    "print (\"This is 2 raised to the 8th power.\")\n",
    "2**8"
   ]
  },
  {
   "cell_type": "markdown",
   "metadata": {},
   "source": [
    "4. Print the remainder of 100 divided by 11. "
   ]
  },
  {
   "cell_type": "code",
   "execution_count": 13,
   "metadata": {},
   "outputs": [
    {
     "name": "stdout",
     "output_type": "stream",
     "text": [
      "The remainder of dividing 100 by 11\n"
     ]
    },
    {
     "data": {
      "text/plain": [
       "1"
      ]
     },
     "execution_count": 13,
     "metadata": {},
     "output_type": "execute_result"
    }
   ],
   "source": [
    "# The % sign is used to find a remainder only. It is the modulo operator\n",
    "100%11\n",
    "print (\"The remainder of dividing 100 by 11\")\n",
    "100%11"
   ]
  },
  {
   "cell_type": "markdown",
   "metadata": {},
   "source": [
    "5. What is the result of adding strings: 20, 8, 77?"
   ]
  },
  {
   "cell_type": "code",
   "execution_count": 14,
   "metadata": {},
   "outputs": [
    {
     "name": "stdout",
     "output_type": "stream",
     "text": [
      "adding STRINGS of numbers (20,8, and 77)together\n"
     ]
    },
    {
     "data": {
      "text/plain": [
       "'20877'"
      ]
     },
     "execution_count": 14,
     "metadata": {},
     "output_type": "execute_result"
    }
   ],
   "source": [
    "# I am concatenatiing strings by putting each value in quotation marks and using the + sign between\n",
    "print (\"adding STRINGS of numbers (20,8, and 77)together\")\n",
    "\"20\"+\"8\"+\"77\""
   ]
  },
  {
   "cell_type": "markdown",
   "metadata": {},
   "source": [
    "6. Print out 100 divided by 5"
   ]
  },
  {
   "cell_type": "code",
   "execution_count": 15,
   "metadata": {},
   "outputs": [
    {
     "name": "stdout",
     "output_type": "stream",
     "text": [
      "The result of dividing 100 by 5\n"
     ]
    },
    {
     "data": {
      "text/plain": [
       "20.0"
      ]
     },
     "execution_count": 15,
     "metadata": {},
     "output_type": "execute_result"
    }
   ],
   "source": [
    "# the / is used for division. Result is a float\n",
    "print (\"The result of dividing 100 by 5\")\n",
    "100/5"
   ]
  },
  {
   "cell_type": "markdown",
   "metadata": {},
   "source": [
    "7. What is the different between 10/4 and 10//4?  Print out the result"
   ]
  },
  {
   "cell_type": "code",
   "execution_count": 16,
   "metadata": {},
   "outputs": [
    {
     "name": "stdout",
     "output_type": "stream",
     "text": [
      "dividing 10 by 4\n",
      "2.5\n",
      "float division (quotient only) of 10 divided by 4\n",
      "2\n"
     ]
    }
   ],
   "source": [
    "# / is the symbol for division; // asks for the quotient only\n",
    "divide = 10/4\n",
    "quotient = 10//4\n",
    "print (\"dividing 10 by 4\")\n",
    "print (divide)\n",
    "print (\"float division (quotient only) of 10 divided by 4\")\n",
    "print (quotient)"
   ]
  },
  {
   "cell_type": "markdown",
   "metadata": {},
   "source": [
    "8. Create a variable called height and store your height value there.\n",
    "Print a sentence describing your height and use the variable in the sentence as well."
   ]
  },
  {
   "cell_type": "code",
   "execution_count": 17,
   "metadata": {},
   "outputs": [
    {
     "name": "stdout",
     "output_type": "stream",
     "text": [
      "Comment-My height is 5' 0\". I am storing it in a variable called \"height.\"  The input function is not being used here.\n",
      "My height is 60 in inches\n",
      "Comment-But if I want to  store it as an input string I need a different variable.\n",
      "Comment-My height is 5' 0\". I am storing it in a variable called  \"height2\" as a string and then using it in an output message.\n",
      "My height in feet and inches is  5' 0\"\n"
     ]
    }
   ],
   "source": [
    "print ('Comment-My height is 5\\' 0\". I am storing it in a variable called \"height.\"  The input function is not being used here.')\n",
    "height = 60\n",
    "print (\"My height is\" , height, \"in inches\")\n",
    "print (\"Comment-But if I want to  store it as an input string I need a different variable.\")\n",
    "print ('Comment-My height is 5\\' 0\". I am storing it in a variable called  \"height2\" as a string and then using it in an output message.')\n",
    "height2 = \"5' 0\\\"\"\n",
    "print (\"My height in feet and inches is \", height2)"
   ]
  },
  {
   "cell_type": "markdown",
   "metadata": {},
   "source": [
    "9. Print the same information as exercise 8 using a formatted string. "
   ]
  },
  {
   "cell_type": "code",
   "execution_count": 18,
   "metadata": {},
   "outputs": [
    {
     "name": "stdout",
     "output_type": "stream",
     "text": [
      "My height in feet and inches is 5' 0\"\n"
     ]
    }
   ],
   "source": [
    "# My height is 5' 0\". I am storing it in a variable called \" \"height2\" as a string and then using itin an output message.\n",
    "height2 = \"5' 0\\\"\"\n",
    "print (f\"My height in feet and inches is {height2}\")"
   ]
  },
  {
   "cell_type": "markdown",
   "metadata": {},
   "source": [
    "10. Use two different (single and double) quotes in a string to print out a sentence"
   ]
  },
  {
   "cell_type": "code",
   "execution_count": 19,
   "metadata": {},
   "outputs": [
    {
     "name": "stdout",
     "output_type": "stream",
     "text": [
      "The quick red fox can't beat the lazy brown dog\n",
      "\"Why would you say that?\", he said. \"That's not possible.\"\n"
     ]
    }
   ],
   "source": [
    "print (\"The quick red fox can't beat the lazy brown dog\")\n",
    "print (\"\\\"Why would you say that?\\\", he said. \\\"That's not possible.\\\"\")"
   ]
  },
  {
   "cell_type": "markdown",
   "metadata": {},
   "source": [
    "11. Print out Hello World! 7 times each on a new line using only one line of code."
   ]
  },
  {
   "cell_type": "code",
   "execution_count": 20,
   "metadata": {},
   "outputs": [
    {
     "name": "stdout",
     "output_type": "stream",
     "text": [
      "Hello, world\n",
      "Hello, world\n",
      "Hello, world\n",
      "Hello, world\n",
      "Hello, world\n",
      "Hello, world\n",
      "Hello, world\n",
      "\n"
     ]
    }
   ],
   "source": [
    "# printing \"Hello, world\" seven times, each message on a separate line\n",
    "print (\"Hello, world\\n\" *7) "
   ]
  },
  {
   "cell_type": "markdown",
   "metadata": {},
   "source": [
    "12. Write a code to get two integers from a user. Then print out their summation, subtraction, multiplication, and division."
   ]
  },
  {
   "cell_type": "code",
   "execution_count": 22,
   "metadata": {},
   "outputs": [
    {
     "name": "stdout",
     "output_type": "stream",
     "text": [
      "Enter the first number and press Enter  5\n",
      "Enter the second number and press Enter  4\n",
      "The sum of the two numbers is  9\n",
      "The difference  of the two numbers is  1\n",
      "The product of the two numbers is  20\n",
      "The result of dividing the first number by the second is  1.25\n"
     ]
    }
   ],
   "source": [
    "# Asking the user to enter two numbers. Then performing basic arithmetic operations on those numbers\n",
    "first_number =  (int(input(\"Enter the first number and press Enter  \")))\n",
    "second_number = (int(input(\"Enter the second number and press Enter  \")))\n",
    "print (\"The sum of the two numbers is \",first_number + second_number)\n",
    "print (\"The difference  of the two numbers is \", first_number - second_number)\n",
    "print (\"The product of the two numbers is \",first_number * second_number)\n",
    "print (\"The result of dividing the first number by the second is \", first_number / second_number)"
   ]
  },
  {
   "cell_type": "markdown",
   "metadata": {},
   "source": [
    "13. You and your collegue have been tasked to write a code to get 5 numbers from a user and then print out their summation and average in a formatted string.  Your partner wrote codes below.  Now it is up to you to fix any errors."
   ]
  },
  {
   "cell_type": "code",
   "execution_count": 30,
   "metadata": {},
   "outputs": [
    {
     "name": "stdout",
     "output_type": "stream",
     "text": [
      "Enter a number: Press Enter after each number is entered. 5\n",
      "Enter a number: Press Enter after each number is entered. 6\n",
      "Enter a number: Press Enter after each number is entered. 7\n",
      "Enter a number: Press Enter after each number is entered. 8\n",
      "Enter a number: Press Enter after each number is entered. 9\n",
      "The sum of the numbers you entered is (5, 6 , 7 , 8 , 9)  is  35\n",
      "The average is  7.0\n"
     ]
    }
   ],
   "source": [
    "prompt = \"Enter a number: Press Enter after each number is entered. \"\n",
    "\n",
    "numb1 = int(input(prompt))\n",
    "numb2 = int(input(prompt))\n",
    "numb3 = int(input(prompt))\n",
    "numb4 = int(input(prompt))\n",
    "numb5 = int(input(prompt))\n",
    "\n",
    "total = numb1 + numb2 + numb3 + numb4 + numb5\n",
    "avg = total / 5\n",
    "\n",
    "print(f\"The sum of the numbers you entered is ({numb1}, {numb2} , {numb3} , {numb4} , {numb5})  is  {total}\")\n",
    "print(f\"The average is  {avg}\")"
   ]
  },
  {
   "cell_type": "markdown",
   "metadata": {},
   "source": [
    "14. You and your partner have been assigned to a project to write a program to calculate the amount of runoff rain on a roof from any given rainfall.  \n",
    "\n",
    "You and your partner have figured out that to calculate the runoff from any given rainfall, you need to take the dimensions of the footprint of the roof and convert them to inches. (So, a 50' x 20' roof is 600\" x 240\"). Then, multiply the roof dimensions by the number of inches of rainfall. As an example, 600\" x 240\" x 1\" = 144,000 cubic inches of water for an inch of rainfall. Finally, divide that result by 231 to get the number of gallons (because 1 gallon = 231 cubic inches). (144,000/231 = 623.38).\n",
    "\n",
    "Your partner started coding before getting sick and it is up to you to finish the program."
   ]
  },
  {
   "cell_type": "code",
   "execution_count": 25,
   "metadata": {},
   "outputs": [
    {
     "name": "stdout",
     "output_type": "stream",
     "text": [
      "\n",
      "Rainfall Calculation ***\n",
      "\n",
      "What's the roof's width in feet? Press Enter  50\n",
      "What's the roof's length in feet? Press Enter  20\n",
      "How much did it rain - in inches? Press Enter  1\n",
      "\n",
      "The total runoff from this roof was 623.38 gallons of rainwater\n"
     ]
    }
   ],
   "source": [
    "print(\"\\nRainfall Calculation ***\\n\")\n",
    "\n",
    "width = int(input(\"What's the roof's width in feet? Press Enter  \"))\n",
    "length = int(input(\"What's the roof's length in feet? Press Enter  \"))\n",
    "rain = float(input(\"How much did it rain - in inches? Press Enter  \"))\n",
    "square_area = (width*12) * ( length*12)\n",
    "total_water = square_area * rain\n",
    "gallons = total_water/231\n",
    "print ()\n",
    "print (f\"The total runoff from this roof was {gallons:,.2f} gallons of rainwater\")\n",
    "\n",
    "\n"
   ]
  },
  {
   "cell_type": "markdown",
   "metadata": {},
   "source": [
    "15. A program is required to get a customer’s name, a purchase amount and a discount rate (in %). The program must compute the discount amount, sales tax (6%) and the total amount due. Using one print statement, print the customer’s name, purchase amount, discount amount, sales tax and total amount due in friendly format."
   ]
  },
  {
   "cell_type": "code",
   "execution_count": 2,
   "metadata": {},
   "outputs": [
    {
     "name": "stdout",
     "output_type": "stream",
     "text": [
      "Please enter your name: Janet\n",
      "What discount rate were you offered? Don't add the % sign.10\n",
      "What was the total amount of your purchase?100\n",
      "\n",
      "Hello,  Janet\n",
      "The purchase amount was \t\t\t$100.00\n",
      "Your 10.0%  earned a discount of \t\t$10.00 \n",
      "The sales tax rate is 6%\n",
      "The tax due on the discounted total\n",
      "   \tof $90.00 was \t\t\t\t\t-$5.40\n",
      "And the total amount you paid was\t\t $95.40\n"
     ]
    }
   ],
   "source": [
    "customer_name = input(\"Please enter your name: \")\n",
    "discount_rate = float((input (\"What discount rate were you offered? Don't add the % sign.\")))\n",
    "discount_rate /=100\n",
    "purchase_amount = float (input(\"What was the total amount of your purchase?\"))\n",
    "discount = purchase_amount * discount_rate\n",
    "tax_rate = 0.06\n",
    "tax = (purchase_amount - discount)*tax_rate\n",
    "total_due = (purchase_amount - discount) + tax\n",
    "print (f\"\"\"\\nHello,  {customer_name}\\nThe purchase amount was \\t\\t\\t${purchase_amount:.2f}\n",
    "Your {discount_rate*100:.1f}%  earned a discount of \\t\\t${discount:.2f} \\nThe sales tax rate is 6%\n",
    "The tax due on the discounted total\n",
    "   \\tof ${purchase_amount-discount:.2f} was \\t\\t\\t\\t\\t-${tax:.2f}\n",
    "And the total amount you paid was\\t\\t ${total_due:.2f}\"\"\")"
   ]
  }
 ],
 "metadata": {
  "kernelspec": {
   "display_name": "Python 3",
   "language": "python",
   "name": "python3"
  },
  "language_info": {
   "codemirror_mode": {
    "name": "ipython",
    "version": 3
   },
   "file_extension": ".py",
   "mimetype": "text/x-python",
   "name": "python",
   "nbconvert_exporter": "python",
   "pygments_lexer": "ipython3",
   "version": "3.8.8"
  }
 },
 "nbformat": 4,
 "nbformat_minor": 4
}
